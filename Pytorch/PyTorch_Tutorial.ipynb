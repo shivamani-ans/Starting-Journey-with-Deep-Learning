{
 "cells": [
  {
   "cell_type": "code",
   "execution_count": 6,
   "metadata": {},
   "outputs": [],
   "source": [
    "import torch\n"
   ]
  },
  {
   "cell_type": "code",
   "execution_count": 8,
   "metadata": {},
   "outputs": [
    {
     "name": "stdout",
     "output_type": "stream",
     "text": [
      "tensor(1.00000e-43 *\n",
      "       [[ 0.0000,  0.0000,  8.4638],\n",
      "        [ 0.0000,  0.0701,  0.0000],\n",
      "        [    nan,  3.1389,  0.0000],\n",
      "        [ 0.0000,  0.0701,  0.0000],\n",
      "        [    nan,  3.1389,  0.0000]])\n"
     ]
    }
   ],
   "source": [
    "x = torch.empty(5,3)\n",
    "print(x)"
   ]
  },
  {
   "cell_type": "code",
   "execution_count": 9,
   "metadata": {},
   "outputs": [
    {
     "name": "stdout",
     "output_type": "stream",
     "text": [
      "tensor([[ 0.7284,  0.0275,  0.0163],\n",
      "        [ 0.8242,  0.3911,  0.3364],\n",
      "        [ 0.2122,  0.1635,  0.5309],\n",
      "        [ 0.7605,  0.6924,  0.0221],\n",
      "        [ 0.6578,  0.8838,  0.9640]])\n"
     ]
    }
   ],
   "source": [
    "x = torch.rand(5,3)\n",
    "print(x)"
   ]
  },
  {
   "cell_type": "code",
   "execution_count": 10,
   "metadata": {},
   "outputs": [
    {
     "name": "stdout",
     "output_type": "stream",
     "text": [
      "tensor([[ 0,  0,  0],\n",
      "        [ 0,  0,  0],\n",
      "        [ 0,  0,  0],\n",
      "        [ 0,  0,  0],\n",
      "        [ 0,  0,  0]])\n"
     ]
    }
   ],
   "source": [
    "x = torch.zeros(5,3,dtype = torch.long)\n",
    "print(x)"
   ]
  },
  {
   "cell_type": "code",
   "execution_count": 11,
   "metadata": {},
   "outputs": [
    {
     "name": "stdout",
     "output_type": "stream",
     "text": [
      "tensor([ 5.5000,  3.0000])\n"
     ]
    }
   ],
   "source": [
    "x = torch.tensor([5.5,3])\n",
    "print(x)"
   ]
  },
  {
   "cell_type": "code",
   "execution_count": 13,
   "metadata": {},
   "outputs": [
    {
     "name": "stdout",
     "output_type": "stream",
     "text": [
      "tensor([[ 1.,  1.,  1.],\n",
      "        [ 1.,  1.,  1.],\n",
      "        [ 1.,  1.,  1.],\n",
      "        [ 1.,  1.,  1.],\n",
      "        [ 1.,  1.,  1.]], dtype=torch.float64)\n",
      "tensor([[ 0.0068,  0.0545,  0.5763],\n",
      "        [ 0.2390,  0.5831,  0.1757],\n",
      "        [ 0.1942,  0.1069,  0.6628],\n",
      "        [ 0.5474,  0.3933,  0.2851],\n",
      "        [ 0.1510,  0.5919,  0.5036]])\n"
     ]
    }
   ],
   "source": [
    "x = x.new_ones(5,3, dtype = torch.double)\n",
    "print(x)\n",
    "\n",
    "x = torch.rand_like(x, dtype = torch.float)\n",
    "print(x)"
   ]
  },
  {
   "cell_type": "code",
   "execution_count": 16,
   "metadata": {},
   "outputs": [
    {
     "name": "stdout",
     "output_type": "stream",
     "text": [
      "torch.Size([5, 3])\n"
     ]
    }
   ],
   "source": [
    "print(x.size())"
   ]
  },
  {
   "cell_type": "code",
   "execution_count": 18,
   "metadata": {},
   "outputs": [
    {
     "name": "stdout",
     "output_type": "stream",
     "text": [
      "tensor([[ 0.4199,  0.7384,  1.1266],\n",
      "        [ 0.4243,  0.6133,  0.3339],\n",
      "        [ 0.4827,  0.9311,  1.6568],\n",
      "        [ 0.6532,  0.5474,  0.6154],\n",
      "        [ 0.5388,  1.3121,  1.3814]])\n"
     ]
    }
   ],
   "source": [
    "y = torch.rand(5,3)\n",
    "print(x+y)"
   ]
  },
  {
   "cell_type": "code",
   "execution_count": 20,
   "metadata": {},
   "outputs": [
    {
     "name": "stdout",
     "output_type": "stream",
     "text": [
      "tensor([[ 0.4199,  0.7384,  1.1266],\n",
      "        [ 0.4243,  0.6133,  0.3339],\n",
      "        [ 0.4827,  0.9311,  1.6568],\n",
      "        [ 0.6532,  0.5474,  0.6154],\n",
      "        [ 0.5388,  1.3121,  1.3814]])\n"
     ]
    }
   ],
   "source": [
    "print(torch.add(x,y))"
   ]
  },
  {
   "cell_type": "code",
   "execution_count": 21,
   "metadata": {},
   "outputs": [
    {
     "name": "stdout",
     "output_type": "stream",
     "text": [
      "tensor([[ 0.4199,  0.7384,  1.1266],\n",
      "        [ 0.4243,  0.6133,  0.3339],\n",
      "        [ 0.4827,  0.9311,  1.6568],\n",
      "        [ 0.6532,  0.5474,  0.6154],\n",
      "        [ 0.5388,  1.3121,  1.3814]])\n"
     ]
    }
   ],
   "source": [
    "result = torch.empty(5,3)\n",
    "torch.add(x,y, out = result)\n",
    "print(result)"
   ]
  }
 ],
 "metadata": {
  "kernelspec": {
   "display_name": "Python 3",
   "language": "python",
   "name": "python3"
  },
  "language_info": {
   "codemirror_mode": {
    "name": "ipython",
    "version": 3
   },
   "file_extension": ".py",
   "mimetype": "text/x-python",
   "name": "python",
   "nbconvert_exporter": "python",
   "pygments_lexer": "ipython3",
   "version": "3.6.4"
  }
 },
 "nbformat": 4,
 "nbformat_minor": 2
}
