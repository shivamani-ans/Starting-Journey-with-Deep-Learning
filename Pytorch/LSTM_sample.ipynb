{
 "cells": [
  {
   "cell_type": "code",
   "execution_count": 2,
   "metadata": {},
   "outputs": [
    {
     "data": {
      "text/plain": [
       "<torch._C.Generator at 0x4a694fc470>"
      ]
     },
     "execution_count": 2,
     "metadata": {},
     "output_type": "execute_result"
    }
   ],
   "source": [
    "import torch\n",
    "import torch.nn as nn\n",
    "import torch.nn.functional as F\n",
    "import torch.optim as optim\n",
    "\n",
    "torch.manual_seed(1)"
   ]
  },
  {
   "cell_type": "code",
   "execution_count": 3,
   "metadata": {},
   "outputs": [
    {
     "name": "stdout",
     "output_type": "stream",
     "text": [
      "tensor([[[-0.0187,  0.1713, -0.2944]],\n",
      "\n",
      "        [[-0.3521,  0.1026, -0.2971]],\n",
      "\n",
      "        [[-0.3191,  0.0781, -0.1957]],\n",
      "\n",
      "        [[-0.1634,  0.0941, -0.1637]],\n",
      "\n",
      "        [[-0.3368,  0.0959, -0.0538]]])\n",
      "(tensor([[[-0.3368,  0.0959, -0.0538]]]), tensor([[[-0.9825,  0.4715, -0.0633]]]))\n"
     ]
    }
   ],
   "source": [
    "lstm = nn.LSTM(3, 3)\n",
    "inputs = [torch.randn(1, 3) for _ in range(5)]\n",
    "\n",
    "hidden = (torch.randn(1, 1, 3),\n",
    "          torch.randn(1, 1, 3))\n",
    "\n",
    "for i in inputs:\n",
    "    out, hidden = lstm(i.view(1, 1, -1), hidden)\n",
    "\n",
    "inputs = torch.cat(inputs).view(len(inputs), 1, -1)\n",
    "\n",
    "hidden = (torch.randn(1, 1, 3), torch.randn(1, 1, 3))  # clean out hidden state\n",
    "out, hidden = lstm(inputs, hidden)\n",
    "print(out)\n",
    "print(hidden)"
   ]
  },
  {
   "cell_type": "code",
   "execution_count": 4,
   "metadata": {},
   "outputs": [],
   "source": [
    "class LSTMNumSeq(nn.Module):\n",
    "    \n",
    "    def __init__(self,embedding_dim, hidden_dim, num_size):\n",
    "        super(LSTMNumSeq, self).__init__()\n",
    "        self.hidden_dim = hidden_dim\n",
    "        \n",
    "        self.word_embeddings = nn.Embedding(num_size, embedding_dim)\n",
    "        \n",
    "        self.lstm = nn.LSTM(embedding_dim, hidden_dim)\n",
    "        self.hidden2tag = nn.Linear(hidden_dim, num_size)\n",
    "        self.hidden = self.init_hidden()\n",
    "        \n",
    "    def init_hidden(self):\n",
    "        return (torch.zeros(1, 1, self.hidden_dim),\n",
    "                torch.zeros(1, 1, self.hidden_dim))\n",
    "    \n",
    "    def forward(self, seq):\n",
    "        embeds = self.word_embeddings(seq)\n",
    "        lstm_out, self.hidden = self.lstm(embeds.view(len(seq), 1, -1), self.hidden)\n",
    "        tag_space = self.hidden2tag(lstm_out.view(len(seq), -1))\n",
    "        out_seq = F.log_softmax(tag_space, dim=1)\n",
    "        return out_seq\n",
    "        "
   ]
  },
  {
   "cell_type": "code",
   "execution_count": 5,
   "metadata": {},
   "outputs": [],
   "source": [
    "input_seq = [(\"012345678\",\"123456789\"),(\"123456789\",\"234567890\"),(\"234567890\",\"345678901\"),(\"345678901\",\"456789012\"),(\"456789012\",\"567890123\")]\n",
    "#[(\"0123456789\",\"1234567890\"),(\"1234567890\",\"2345678901\"),(\"2345678901\",\"3456789012\"),(\"3456789012\",\"4567890123\"),(\"4567890123\",\"5678901234\")]\n",
    "num_to_ix = {\"0\": 0, \"1\":1,\"2\":2,\"3\":3,\"4\":4,\"5\":5,\"6\":6,\"7\":7,\"8\":8,\"9\":9}\n",
    "\n",
    "def prepare_sequence(seq, to_ix):\n",
    "    idxs = [to_ix[seq[w]] for w in range(len(seq))]\n",
    "    return torch.tensor(idxs, dtype = torch.long)\n"
   ]
  },
  {
   "cell_type": "code",
   "execution_count": 6,
   "metadata": {},
   "outputs": [],
   "source": [
    "model = LSTMNumSeq(6, 6, 10)\n",
    "loss_function = nn.NLLLoss()\n",
    "optimizer = optim.SGD(model.parameters(), lr = 0.01)\n",
    "\n",
    "#with torch.no_grad():\n",
    "#    inputs = prepare_sequence(input_seq[0][0], num_to_ix)\n",
    "#    output_seq = model(inputs)\n",
    "    #print(output_seq)\n",
    "    \n",
    "for epoch in range(3000):\n",
    "    for sequence, ty in input_seq:\n",
    "        model.zero_grad()\n",
    "        \n",
    "        model.hidden = model.init_hidden()\n",
    "        \n",
    "        seq_in = prepare_sequence(sequence, num_to_ix)\n",
    "        target = prepare_sequence(ty, num_to_ix)\n",
    "        \n",
    "        out = model(seq_in)\n",
    "        \n",
    "        loss = loss_function(out, target)\n",
    "        loss.backward()\n",
    "        optimizer.step()\n",
    "        \n",
    "#with torch.no_grad():\n",
    "#    inputs = prepare_sequence(input_seq[0][0], num_to_ix)\n",
    "#    output_seq = model(inputs)\n",
    "#    print(output_seq)"
   ]
  },
  {
   "cell_type": "code",
   "execution_count": 7,
   "metadata": {},
   "outputs": [
    {
     "name": "stdout",
     "output_type": "stream",
     "text": [
      "323464059\n"
     ]
    }
   ],
   "source": [
    "#print(torch.argmax(output_seq, dim = 1))\n",
    "with torch.no_grad():\n",
    "    inputs = prepare_sequence(\"612359048\", num_to_ix)\n",
    "    output_seq = model(inputs)\n",
    "    #print(output_seq)\n",
    "    \n",
    "output = \"\"\n",
    "for i in torch.argmax(output_seq, dim = 1):\n",
    "    output += str(num_to_ix[str(i.item())])\n",
    "\n",
    "print(output)"
   ]
  },
  {
   "cell_type": "code",
   "execution_count": 12,
   "metadata": {},
   "outputs": [
    {
     "name": "stdout",
     "output_type": "stream",
     "text": [
      "tensor([[ 0.7068, -1.8458, -0.8011, -1.5776, -0.9171, -0.2311],\n",
      "        [ 1.0470, -1.5918,  0.0556, -0.6261, -0.5794, -0.5948],\n",
      "        [ 0.0714,  0.3420,  0.8866, -0.8954,  0.0848,  0.2620],\n",
      "        [-0.9102, -0.1423,  0.2989,  1.4571,  0.2304, -0.1479],\n",
      "        [-0.5929, -0.3364, -0.0321, -0.5684, -1.4244, -1.3247],\n",
      "        [-2.0823, -0.6323, -0.5450,  0.3116,  0.5931,  1.8194],\n",
      "        [-0.8792, -1.1781,  0.2504,  0.3679,  0.6677,  0.6348],\n",
      "        [-0.5083,  1.2397, -0.2392,  1.7528, -1.3151,  0.1726],\n",
      "        [-0.0877, -0.4218, -1.1414, -1.9074, -0.0156,  1.0395]])\n",
      "tensor([[[ 0.7068, -1.8458, -0.8011, -1.5776, -0.9171, -0.2311]],\n",
      "\n",
      "        [[ 1.0470, -1.5918,  0.0556, -0.6261, -0.5794, -0.5948]],\n",
      "\n",
      "        [[ 0.0714,  0.3420,  0.8866, -0.8954,  0.0848,  0.2620]],\n",
      "\n",
      "        [[-0.9102, -0.1423,  0.2989,  1.4571,  0.2304, -0.1479]],\n",
      "\n",
      "        [[-0.5929, -0.3364, -0.0321, -0.5684, -1.4244, -1.3247]],\n",
      "\n",
      "        [[-2.0823, -0.6323, -0.5450,  0.3116,  0.5931,  1.8194]],\n",
      "\n",
      "        [[-0.8792, -1.1781,  0.2504,  0.3679,  0.6677,  0.6348]],\n",
      "\n",
      "        [[-0.5083,  1.2397, -0.2392,  1.7528, -1.3151,  0.1726]],\n",
      "\n",
      "        [[-0.0877, -0.4218, -1.1414, -1.9074, -0.0156,  1.0395]]])\n"
     ]
    }
   ],
   "source": [
    "word_embeddings = nn.Embedding(10, 6)\n",
    "\n",
    "seq = \"012345678\"\n",
    "idxs = [num_to_ix[seq[w]] for w in range(len(seq))]\n",
    "tseq = torch.tensor(idxs, dtype = torch.long)\n",
    "\n",
    "embeds = word_embeddings(tseq)\n",
    "print(embeds)\n",
    "print(embeds.view(len(tseq), 1, -1))"
   ]
  },
  {
   "cell_type": "code",
   "execution_count": 15,
   "metadata": {},
   "outputs": [
    {
     "name": "stdout",
     "output_type": "stream",
     "text": [
      "tensor([[ 0.4298, -0.3652],\n",
      "        [-0.7078,  0.2642]])\n",
      "tensor([[[ 0.4298, -0.3652]],\n",
      "\n",
      "        [[-0.7078,  0.2642]]])\n"
     ]
    }
   ],
   "source": [
    "x = torch.randn(2,2)\n",
    "print(x)\n",
    "y = x.view(2,1,-1)\n",
    "print(y)"
   ]
  }
 ],
 "metadata": {
  "kernelspec": {
   "display_name": "Python 3",
   "language": "python",
   "name": "python3"
  },
  "language_info": {
   "codemirror_mode": {
    "name": "ipython",
    "version": 3
   },
   "file_extension": ".py",
   "mimetype": "text/x-python",
   "name": "python",
   "nbconvert_exporter": "python",
   "pygments_lexer": "ipython3",
   "version": "3.6.4"
  }
 },
 "nbformat": 4,
 "nbformat_minor": 2
}
