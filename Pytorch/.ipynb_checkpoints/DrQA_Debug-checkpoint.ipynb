{
 "cells": [
  {
   "cell_type": "code",
   "execution_count": 3,
   "metadata": {},
   "outputs": [
    {
     "name": "stdout",
     "output_type": "stream",
     "text": [
      "9\n"
     ]
    }
   ],
   "source": [
    "import json\n",
    "\n",
    "filename = \"C:/Users/shiva.m/Downloads/BITS/ML Expermentation/ContentML/Data/SQuadsample-processed-corenlp.txt\"\n",
    "skip_no_answer = True\n",
    "\n",
    "with open(filename) as f:\n",
    "    examples = [json.loads(line) for line in f]\n",
    "\n",
    "# Skip unparsed (start/end) examples\n",
    "if skip_no_answer:\n",
    "    examples = [ex for ex in examples if len(ex['answers']) > 0]\n",
    "    \n",
    "print(len(examples))"
   ]
  },
  {
   "cell_type": "code",
   "execution_count": null,
   "metadata": {},
   "outputs": [],
   "source": []
  }
 ],
 "metadata": {
  "kernelspec": {
   "display_name": "Python 3",
   "language": "python",
   "name": "python3"
  },
  "language_info": {
   "codemirror_mode": {
    "name": "ipython",
    "version": 3
   },
   "file_extension": ".py",
   "mimetype": "text/x-python",
   "name": "python",
   "nbconvert_exporter": "python",
   "pygments_lexer": "ipython3",
   "version": "3.6.4"
  }
 },
 "nbformat": 4,
 "nbformat_minor": 2
}
